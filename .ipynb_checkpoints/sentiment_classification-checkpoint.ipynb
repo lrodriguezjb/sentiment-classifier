{
 "nbformat": 4,
 "nbformat_minor": 2,
 "metadata": {
  "language_info": {
   "name": "python",
   "codemirror_mode": {
    "name": "ipython",
    "version": 3
   },
   "version": "3.7.5"
  },
  "orig_nbformat": 2,
  "file_extension": ".py",
  "mimetype": "text/x-python",
  "name": "python",
  "npconvert_exporter": "python",
  "pygments_lexer": "ipython3",
  "version": 3
 },
 "cells": [
  {
   "cell_type": "code",
   "execution_count": 1,
   "metadata": {},
   "outputs": [
    {
     "name": "stderr",
     "output_type": "stream",
     "text": "Using TensorFlow backend.\n"
    }
   ],
   "source": [
    "import numpy as np\n",
    "import tensorflow as tf\n",
    "import pandas as pd\n",
    "import keras.preprocessing.text as kpt\n",
    "from keras.preprocessing.text import Tokenizer"
   ]
  },
  {
   "cell_type": "code",
   "execution_count": 2,
   "metadata": {},
   "outputs": [
    {
     "name": "stdout",
     "output_type": "stream",
     "text": "Number of GPUs Available:  0\n"
    }
   ],
   "source": [
    "print(\"Number of GPUs Available: \", len(tf.config.experimental.list_physical_devices('GPU')))"
   ]
  },
  {
   "cell_type": "code",
   "execution_count": 14,
   "metadata": {},
   "outputs": [
    {
     "data": {
      "text/html": "<div>\n<style scoped>\n    .dataframe tbody tr th:only-of-type {\n        vertical-align: middle;\n    }\n\n    .dataframe tbody tr th {\n        vertical-align: top;\n    }\n\n    .dataframe thead th {\n        text-align: right;\n    }\n</style>\n<table border=\"1\" class=\"dataframe\">\n  <thead>\n    <tr style=\"text-align: right;\">\n      <th></th>\n      <th>address</th>\n      <th>categories</th>\n      <th>city</th>\n      <th>country</th>\n      <th>latitude</th>\n      <th>longitude</th>\n      <th>name</th>\n      <th>postalCode</th>\n      <th>province</th>\n      <th>reviews.date</th>\n      <th>reviews.dateAdded</th>\n      <th>reviews.doRecommend</th>\n      <th>reviews.id</th>\n      <th>reviews.rating</th>\n      <th>reviews.text</th>\n      <th>reviews.title</th>\n      <th>reviews.userCity</th>\n      <th>reviews.username</th>\n      <th>reviews.userProvince</th>\n    </tr>\n  </thead>\n  <tbody>\n    <tr>\n      <th>0</th>\n      <td>Riviera San Nicol 11/a</td>\n      <td>Hotels</td>\n      <td>Mableton</td>\n      <td>US</td>\n      <td>45.421611</td>\n      <td>12.376187</td>\n      <td>Hotel Russo Palace</td>\n      <td>30126</td>\n      <td>GA</td>\n      <td>2013-09-22T00:00:00Z</td>\n      <td>2016-10-24T00:00:25Z</td>\n      <td>NaN</td>\n      <td>NaN</td>\n      <td>4.0</td>\n      <td>Pleasant 10 min walk along the sea front to th...</td>\n      <td>Good location away from the crouds</td>\n      <td>NaN</td>\n      <td>Russ (kent)</td>\n      <td>NaN</td>\n    </tr>\n    <tr>\n      <th>1</th>\n      <td>Riviera San Nicol 11/a</td>\n      <td>Hotels</td>\n      <td>Mableton</td>\n      <td>US</td>\n      <td>45.421611</td>\n      <td>12.376187</td>\n      <td>Hotel Russo Palace</td>\n      <td>30126</td>\n      <td>GA</td>\n      <td>2015-04-03T00:00:00Z</td>\n      <td>2016-10-24T00:00:25Z</td>\n      <td>NaN</td>\n      <td>NaN</td>\n      <td>5.0</td>\n      <td>Really lovely hotel. Stayed on the very top fl...</td>\n      <td>Great hotel with Jacuzzi bath!</td>\n      <td>NaN</td>\n      <td>A Traveler</td>\n      <td>NaN</td>\n    </tr>\n    <tr>\n      <th>2</th>\n      <td>Riviera San Nicol 11/a</td>\n      <td>Hotels</td>\n      <td>Mableton</td>\n      <td>US</td>\n      <td>45.421611</td>\n      <td>12.376187</td>\n      <td>Hotel Russo Palace</td>\n      <td>30126</td>\n      <td>GA</td>\n      <td>2014-05-13T00:00:00Z</td>\n      <td>2016-10-24T00:00:25Z</td>\n      <td>NaN</td>\n      <td>NaN</td>\n      <td>5.0</td>\n      <td>Ett mycket bra hotell. Det som drog ner betyge...</td>\n      <td>Lugnt l��ge</td>\n      <td>NaN</td>\n      <td>Maud</td>\n      <td>NaN</td>\n    </tr>\n    <tr>\n      <th>3</th>\n      <td>Riviera San Nicol 11/a</td>\n      <td>Hotels</td>\n      <td>Mableton</td>\n      <td>US</td>\n      <td>45.421611</td>\n      <td>12.376187</td>\n      <td>Hotel Russo Palace</td>\n      <td>30126</td>\n      <td>GA</td>\n      <td>2013-10-27T00:00:00Z</td>\n      <td>2016-10-24T00:00:25Z</td>\n      <td>NaN</td>\n      <td>NaN</td>\n      <td>5.0</td>\n      <td>We stayed here for four nights in October. The...</td>\n      <td>Good location on the Lido.</td>\n      <td>NaN</td>\n      <td>Julie</td>\n      <td>NaN</td>\n    </tr>\n    <tr>\n      <th>4</th>\n      <td>Riviera San Nicol 11/a</td>\n      <td>Hotels</td>\n      <td>Mableton</td>\n      <td>US</td>\n      <td>45.421611</td>\n      <td>12.376187</td>\n      <td>Hotel Russo Palace</td>\n      <td>30126</td>\n      <td>GA</td>\n      <td>2015-03-05T00:00:00Z</td>\n      <td>2016-10-24T00:00:25Z</td>\n      <td>NaN</td>\n      <td>NaN</td>\n      <td>5.0</td>\n      <td>We stayed here for four nights in October. The...</td>\n      <td>������ ���������������</td>\n      <td>NaN</td>\n      <td>sungchul</td>\n      <td>NaN</td>\n    </tr>\n    <tr>\n      <th>5</th>\n      <td>Riviera San Nicol 11/a</td>\n      <td>Hotels</td>\n      <td>Mableton</td>\n      <td>US</td>\n      <td>45.421611</td>\n      <td>12.376187</td>\n      <td>Hotel Russo Palace</td>\n      <td>30126</td>\n      <td>GA</td>\n      <td>2015-04-05T00:00:00Z</td>\n      <td>2016-10-24T00:00:25Z</td>\n      <td>NaN</td>\n      <td>NaN</td>\n      <td>5.0</td>\n      <td>We loved staying on the island of Lido! You ne...</td>\n      <td>Very nice hotel</td>\n      <td>NaN</td>\n      <td>A Traveler</td>\n      <td>NaN</td>\n    </tr>\n    <tr>\n      <th>6</th>\n      <td>Riviera San Nicol 11/a</td>\n      <td>Hotels</td>\n      <td>Mableton</td>\n      <td>US</td>\n      <td>45.421611</td>\n      <td>12.376187</td>\n      <td>Hotel Russo Palace</td>\n      <td>30126</td>\n      <td>GA</td>\n      <td>2014-06-10T00:00:00Z</td>\n      <td>2016-10-24T00:00:25Z</td>\n      <td>NaN</td>\n      <td>NaN</td>\n      <td>4.0</td>\n      <td>Lovely view out onto the lagoon. Excellent vie...</td>\n      <td>Lovely view out onto the lagoon. Excellent view.</td>\n      <td>NaN</td>\n      <td>A Traveler</td>\n      <td>NaN</td>\n    </tr>\n    <tr>\n      <th>7</th>\n      <td>Riviera San Nicol 11/a</td>\n      <td>Hotels</td>\n      <td>Mableton</td>\n      <td>US</td>\n      <td>45.421611</td>\n      <td>12.376187</td>\n      <td>Hotel Russo Palace</td>\n      <td>30126</td>\n      <td>GA</td>\n      <td>2015-05-14T00:00:00Z</td>\n      <td>2016-10-24T00:00:25Z</td>\n      <td>NaN</td>\n      <td>NaN</td>\n      <td>4.0</td>\n      <td>ottimo soggiorno e ottima sistemazione nei gio...</td>\n      <td>Lovely view out onto the lagoon. Excellent view.</td>\n      <td>NaN</td>\n      <td>A Traveler</td>\n      <td>NaN</td>\n    </tr>\n    <tr>\n      <th>8</th>\n      <td>Riviera San Nicol 11/a</td>\n      <td>Hotels</td>\n      <td>Mableton</td>\n      <td>US</td>\n      <td>45.421611</td>\n      <td>12.376187</td>\n      <td>Hotel Russo Palace</td>\n      <td>30126</td>\n      <td>GA</td>\n      <td>2015-09-14T00:00:00Z</td>\n      <td>2016-10-24T00:00:25Z</td>\n      <td>NaN</td>\n      <td>NaN</td>\n      <td>3.0</td>\n      <td>Gnstiger Ausgangspunkt fr Venedig Besuche. Ruh...</td>\n      <td>G��nstige Lage</td>\n      <td>NaN</td>\n      <td>Doppeldecker</td>\n      <td>NaN</td>\n    </tr>\n    <tr>\n      <th>9</th>\n      <td>Riviera San Nicol 11/a</td>\n      <td>Hotels</td>\n      <td>Mableton</td>\n      <td>US</td>\n      <td>45.421611</td>\n      <td>12.376187</td>\n      <td>Hotel Russo Palace</td>\n      <td>30126</td>\n      <td>GA</td>\n      <td>2015-05-16T00:00:00Z</td>\n      <td>2016-10-24T00:00:25Z</td>\n      <td>NaN</td>\n      <td>NaN</td>\n      <td>4.0</td>\n      <td>Lidoen er perfekt til et par dages ro og afsla...</td>\n      <td>Ro og hygge</td>\n      <td>NaN</td>\n      <td>A Traveler</td>\n      <td>NaN</td>\n    </tr>\n  </tbody>\n</table>\n</div>",
      "text/plain": "                  address categories      city country   latitude  longitude  \\\n0  Riviera San Nicol 11/a     Hotels  Mableton      US  45.421611  12.376187   \n1  Riviera San Nicol 11/a     Hotels  Mableton      US  45.421611  12.376187   \n2  Riviera San Nicol 11/a     Hotels  Mableton      US  45.421611  12.376187   \n3  Riviera San Nicol 11/a     Hotels  Mableton      US  45.421611  12.376187   \n4  Riviera San Nicol 11/a     Hotels  Mableton      US  45.421611  12.376187   \n5  Riviera San Nicol 11/a     Hotels  Mableton      US  45.421611  12.376187   \n6  Riviera San Nicol 11/a     Hotels  Mableton      US  45.421611  12.376187   \n7  Riviera San Nicol 11/a     Hotels  Mableton      US  45.421611  12.376187   \n8  Riviera San Nicol 11/a     Hotels  Mableton      US  45.421611  12.376187   \n9  Riviera San Nicol 11/a     Hotels  Mableton      US  45.421611  12.376187   \n\n                 name postalCode province          reviews.date  \\\n0  Hotel Russo Palace      30126       GA  2013-09-22T00:00:00Z   \n1  Hotel Russo Palace      30126       GA  2015-04-03T00:00:00Z   \n2  Hotel Russo Palace      30126       GA  2014-05-13T00:00:00Z   \n3  Hotel Russo Palace      30126       GA  2013-10-27T00:00:00Z   \n4  Hotel Russo Palace      30126       GA  2015-03-05T00:00:00Z   \n5  Hotel Russo Palace      30126       GA  2015-04-05T00:00:00Z   \n6  Hotel Russo Palace      30126       GA  2014-06-10T00:00:00Z   \n7  Hotel Russo Palace      30126       GA  2015-05-14T00:00:00Z   \n8  Hotel Russo Palace      30126       GA  2015-09-14T00:00:00Z   \n9  Hotel Russo Palace      30126       GA  2015-05-16T00:00:00Z   \n\n      reviews.dateAdded  reviews.doRecommend  reviews.id  reviews.rating  \\\n0  2016-10-24T00:00:25Z                  NaN         NaN             4.0   \n1  2016-10-24T00:00:25Z                  NaN         NaN             5.0   \n2  2016-10-24T00:00:25Z                  NaN         NaN             5.0   \n3  2016-10-24T00:00:25Z                  NaN         NaN             5.0   \n4  2016-10-24T00:00:25Z                  NaN         NaN             5.0   \n5  2016-10-24T00:00:25Z                  NaN         NaN             5.0   \n6  2016-10-24T00:00:25Z                  NaN         NaN             4.0   \n7  2016-10-24T00:00:25Z                  NaN         NaN             4.0   \n8  2016-10-24T00:00:25Z                  NaN         NaN             3.0   \n9  2016-10-24T00:00:25Z                  NaN         NaN             4.0   \n\n                                        reviews.text  \\\n0  Pleasant 10 min walk along the sea front to th...   \n1  Really lovely hotel. Stayed on the very top fl...   \n2  Ett mycket bra hotell. Det som drog ner betyge...   \n3  We stayed here for four nights in October. The...   \n4  We stayed here for four nights in October. The...   \n5  We loved staying on the island of Lido! You ne...   \n6  Lovely view out onto the lagoon. Excellent vie...   \n7  ottimo soggiorno e ottima sistemazione nei gio...   \n8  Gnstiger Ausgangspunkt fr Venedig Besuche. Ruh...   \n9  Lidoen er perfekt til et par dages ro og afsla...   \n\n                                      reviews.title reviews.userCity  \\\n0                Good location away from the crouds              NaN   \n1                    Great hotel with Jacuzzi bath!              NaN   \n2                                       Lugnt l��ge              NaN   \n3                        Good location on the Lido.              NaN   \n4                            ������ ���������������              NaN   \n5                                   Very nice hotel              NaN   \n6  Lovely view out onto the lagoon. Excellent view.              NaN   \n7  Lovely view out onto the lagoon. Excellent view.              NaN   \n8                                    G��nstige Lage              NaN   \n9                                       Ro og hygge              NaN   \n\n  reviews.username reviews.userProvince  \n0      Russ (kent)                  NaN  \n1       A Traveler                  NaN  \n2             Maud                  NaN  \n3            Julie                  NaN  \n4         sungchul                  NaN  \n5       A Traveler                  NaN  \n6       A Traveler                  NaN  \n7       A Traveler                  NaN  \n8     Doppeldecker                  NaN  \n9       A Traveler                  NaN  "
     },
     "execution_count": 14,
     "metadata": {},
     "output_type": "execute_result"
    }
   ],
   "source": [
    "hotel_review_df = pd.read_csv('data/hotel_reviews.csv')\n",
    "hotel_review_df.head(10)"
   ]
  },
  {
   "cell_type": "code",
   "execution_count": 18,
   "metadata": {},
   "outputs": [
    {
     "data": {
      "text/html": "<div>\n<style scoped>\n    .dataframe tbody tr th:only-of-type {\n        vertical-align: middle;\n    }\n\n    .dataframe tbody tr th {\n        vertical-align: top;\n    }\n\n    .dataframe thead th {\n        text-align: right;\n    }\n</style>\n<table border=\"1\" class=\"dataframe\">\n  <thead>\n    <tr style=\"text-align: right;\">\n      <th></th>\n      <th>reviews.rating</th>\n    </tr>\n  </thead>\n  <tbody>\n    <tr>\n      <th>count</th>\n      <td>35050.000000</td>\n    </tr>\n    <tr>\n      <th>mean</th>\n      <td>3.776431</td>\n    </tr>\n    <tr>\n      <th>std</th>\n      <td>1.416195</td>\n    </tr>\n    <tr>\n      <th>min</th>\n      <td>0.000000</td>\n    </tr>\n    <tr>\n      <th>25%</th>\n      <td>3.000000</td>\n    </tr>\n    <tr>\n      <th>50%</th>\n      <td>4.000000</td>\n    </tr>\n    <tr>\n      <th>75%</th>\n      <td>5.000000</td>\n    </tr>\n    <tr>\n      <th>max</th>\n      <td>10.000000</td>\n    </tr>\n  </tbody>\n</table>\n</div>",
      "text/plain": "       reviews.rating\ncount    35050.000000\nmean         3.776431\nstd          1.416195\nmin          0.000000\n25%          3.000000\n50%          4.000000\n75%          5.000000\nmax         10.000000"
     },
     "execution_count": 18,
     "metadata": {},
     "output_type": "execute_result"
    }
   ],
   "source": [
    "hotel_review_df[['reviews.rating']].describe()"
   ]
  },
  {
   "cell_type": "code",
   "execution_count": 90,
   "metadata": {},
   "outputs": [],
   "source": [
    "def sentiment_classifier(rating):\n",
    "    if rating >= 5:\n",
    "        return int(2)\n",
    "    elif rating > 3:\n",
    "        return int(1)\n",
    "    if rating <= 3:\n",
    "        return int(0)"
   ]
  },
  {
   "cell_type": "code",
   "execution_count": 91,
   "metadata": {},
   "outputs": [],
   "source": [
    "hotel_review_df['sentiment'] = hotel_review_df['reviews.rating'].apply(sentiment_classifier)"
   ]
  },
  {
   "cell_type": "code",
   "execution_count": 123,
   "metadata": {},
   "outputs": [],
   "source": [
    "def fix_floats(score):\n",
    "    return int(score)"
   ]
  },
  {
   "cell_type": "code",
   "execution_count": 133,
   "metadata": {},
   "outputs": [
    {
     "data": {
      "text/plain": "22216    4.0\n19027    3.0\n825      5.0\n30935    4.0\n5347     4.0\n34927    3.0\n25643    1.0\n26764    0.0\n28069    2.0\n1148     3.0\nName: review, dtype: float64"
     },
     "execution_count": 133,
     "metadata": {},
     "output_type": "execute_result"
    }
   ],
   "source": [
    "hotel_review_df['review'] = hotel_review_df['reviews.rating'].dropna()\n",
    "hotel_review_df['review'].sample(10)"
   ]
  },
  {
   "cell_type": "code",
   "execution_count": 127,
   "metadata": {},
   "outputs": [
    {
     "data": {
      "text/plain": "0        4\n1        5\n2        5\n3        5\n4        5\n        ..\n35907    5\n35908    5\n35909    5\n35910    0\n35911    0\nName: reviews.rating, Length: 35050, dtype: int64"
     },
     "execution_count": 127,
     "metadata": {},
     "output_type": "execute_result"
    }
   ],
   "source": [
    "a = review_training_df['reviews.rating'].dropna()\n",
    "b = a.apply(fix_floats)\n",
    "b"
   ]
  },
  {
   "cell_type": "code",
   "execution_count": 130,
   "metadata": {},
   "outputs": [],
   "source": [
    "hotel_review_df['reviews'] = b.apply(fix_floats)"
   ]
  },
  {
   "cell_type": "code",
   "execution_count": 134,
   "metadata": {},
   "outputs": [
    {
     "data": {
      "text/html": "<div>\n<style scoped>\n    .dataframe tbody tr th:only-of-type {\n        vertical-align: middle;\n    }\n\n    .dataframe tbody tr th {\n        vertical-align: top;\n    }\n\n    .dataframe thead th {\n        text-align: right;\n    }\n</style>\n<table border=\"1\" class=\"dataframe\">\n  <thead>\n    <tr style=\"text-align: right;\">\n      <th></th>\n      <th>reviews.text</th>\n      <th>reviews</th>\n      <th>sentiment</th>\n    </tr>\n  </thead>\n  <tbody>\n    <tr>\n      <th>0</th>\n      <td>Pleasant 10 min walk along the sea front to th...</td>\n      <td>4.0</td>\n      <td>1.0</td>\n    </tr>\n    <tr>\n      <th>1</th>\n      <td>Really lovely hotel. Stayed on the very top fl...</td>\n      <td>5.0</td>\n      <td>2.0</td>\n    </tr>\n    <tr>\n      <th>2</th>\n      <td>Ett mycket bra hotell. Det som drog ner betyge...</td>\n      <td>5.0</td>\n      <td>2.0</td>\n    </tr>\n    <tr>\n      <th>3</th>\n      <td>We stayed here for four nights in October. The...</td>\n      <td>5.0</td>\n      <td>2.0</td>\n    </tr>\n    <tr>\n      <th>4</th>\n      <td>We stayed here for four nights in October. The...</td>\n      <td>5.0</td>\n      <td>2.0</td>\n    </tr>\n    <tr>\n      <th>...</th>\n      <td>...</td>\n      <td>...</td>\n      <td>...</td>\n    </tr>\n    <tr>\n      <th>35907</th>\n      <td>Best of the Best!!!! My family and I stayed in...</td>\n      <td>5.0</td>\n      <td>2.0</td>\n    </tr>\n    <tr>\n      <th>35908</th>\n      <td>Amazing Vacation in Beautiful Cabin We stayed ...</td>\n      <td>5.0</td>\n      <td>2.0</td>\n    </tr>\n    <tr>\n      <th>35909</th>\n      <td>My husband and I stayed at Tree Tops which is ...</td>\n      <td>5.0</td>\n      <td>2.0</td>\n    </tr>\n    <tr>\n      <th>35910</th>\n      <td>to share your opinion of this businesswith YP ...</td>\n      <td>0.0</td>\n      <td>0.0</td>\n    </tr>\n    <tr>\n      <th>35911</th>\n      <td>xxxxxxxxxxxxxxxxxxxxxxxxxxxxxxxxxxxxxxxxxx</td>\n      <td>0.0</td>\n      <td>0.0</td>\n    </tr>\n  </tbody>\n</table>\n<p>35912 rows × 3 columns</p>\n</div>",
      "text/plain": "                                            reviews.text  reviews  sentiment\n0      Pleasant 10 min walk along the sea front to th...      4.0        1.0\n1      Really lovely hotel. Stayed on the very top fl...      5.0        2.0\n2      Ett mycket bra hotell. Det som drog ner betyge...      5.0        2.0\n3      We stayed here for four nights in October. The...      5.0        2.0\n4      We stayed here for four nights in October. The...      5.0        2.0\n...                                                  ...      ...        ...\n35907  Best of the Best!!!! My family and I stayed in...      5.0        2.0\n35908  Amazing Vacation in Beautiful Cabin We stayed ...      5.0        2.0\n35909  My husband and I stayed at Tree Tops which is ...      5.0        2.0\n35910  to share your opinion of this businesswith YP ...      0.0        0.0\n35911         xxxxxxxxxxxxxxxxxxxxxxxxxxxxxxxxxxxxxxxxxx      0.0        0.0\n\n[35912 rows x 3 columns]"
     },
     "execution_count": 134,
     "metadata": {},
     "output_type": "execute_result"
    }
   ],
   "source": [
    "hotel_rankings = hotel_review_df[['reviews.text', 'reviews', 'sentiment']]\n",
    "hotel_rankings"
   ]
  },
  {
   "cell_type": "code",
   "execution_count": 135,
   "metadata": {},
   "outputs": [],
   "source": [
    "hotel_rankings.to_csv('hotel_rankings.csv')"
   ]
  },
  {
   "cell_type": "code",
   "execution_count": 137,
   "metadata": {},
   "outputs": [
    {
     "data": {
      "text/html": "<div>\n<style scoped>\n    .dataframe tbody tr th:only-of-type {\n        vertical-align: middle;\n    }\n\n    .dataframe tbody tr th {\n        vertical-align: top;\n    }\n\n    .dataframe thead th {\n        text-align: right;\n    }\n</style>\n<table border=\"1\" class=\"dataframe\">\n  <thead>\n    <tr style=\"text-align: right;\">\n      <th></th>\n      <th>Unnamed: 0</th>\n      <th>reviews.text</th>\n      <th>reviews</th>\n      <th>sentiment</th>\n    </tr>\n  </thead>\n  <tbody>\n    <tr>\n      <th>0</th>\n      <td>0</td>\n      <td>Pleasant 10 min walk along the sea front to th...</td>\n      <td>4.0</td>\n      <td>1.0</td>\n    </tr>\n    <tr>\n      <th>1</th>\n      <td>1</td>\n      <td>Really lovely hotel. Stayed on the very top fl...</td>\n      <td>5.0</td>\n      <td>2.0</td>\n    </tr>\n    <tr>\n      <th>2</th>\n      <td>2</td>\n      <td>Ett mycket bra hotell. Det som drog ner betyge...</td>\n      <td>5.0</td>\n      <td>2.0</td>\n    </tr>\n    <tr>\n      <th>3</th>\n      <td>3</td>\n      <td>We stayed here for four nights in October. The...</td>\n      <td>5.0</td>\n      <td>2.0</td>\n    </tr>\n    <tr>\n      <th>4</th>\n      <td>4</td>\n      <td>We stayed here for four nights in October. The...</td>\n      <td>5.0</td>\n      <td>2.0</td>\n    </tr>\n    <tr>\n      <th>...</th>\n      <td>...</td>\n      <td>...</td>\n      <td>...</td>\n      <td>...</td>\n    </tr>\n    <tr>\n      <th>35907</th>\n      <td>35907</td>\n      <td>Best of the Best!!!! My family and I stayed in...</td>\n      <td>5.0</td>\n      <td>2.0</td>\n    </tr>\n    <tr>\n      <th>35908</th>\n      <td>35908</td>\n      <td>Amazing Vacation in Beautiful Cabin We stayed ...</td>\n      <td>5.0</td>\n      <td>2.0</td>\n    </tr>\n    <tr>\n      <th>35909</th>\n      <td>35909</td>\n      <td>My husband and I stayed at Tree Tops which is ...</td>\n      <td>5.0</td>\n      <td>2.0</td>\n    </tr>\n    <tr>\n      <th>35910</th>\n      <td>35910</td>\n      <td>to share your opinion of this businesswith YP ...</td>\n      <td>0.0</td>\n      <td>0.0</td>\n    </tr>\n    <tr>\n      <th>35911</th>\n      <td>35911</td>\n      <td>xxxxxxxxxxxxxxxxxxxxxxxxxxxxxxxxxxxxxxxxxx</td>\n      <td>0.0</td>\n      <td>0.0</td>\n    </tr>\n  </tbody>\n</table>\n<p>35912 rows × 4 columns</p>\n</div>",
      "text/plain": "       Unnamed: 0                                       reviews.text  reviews  \\\n0               0  Pleasant 10 min walk along the sea front to th...      4.0   \n1               1  Really lovely hotel. Stayed on the very top fl...      5.0   \n2               2  Ett mycket bra hotell. Det som drog ner betyge...      5.0   \n3               3  We stayed here for four nights in October. The...      5.0   \n4               4  We stayed here for four nights in October. The...      5.0   \n...           ...                                                ...      ...   \n35907       35907  Best of the Best!!!! My family and I stayed in...      5.0   \n35908       35908  Amazing Vacation in Beautiful Cabin We stayed ...      5.0   \n35909       35909  My husband and I stayed at Tree Tops which is ...      5.0   \n35910       35910  to share your opinion of this businesswith YP ...      0.0   \n35911       35911         xxxxxxxxxxxxxxxxxxxxxxxxxxxxxxxxxxxxxxxxxx      0.0   \n\n       sentiment  \n0            1.0  \n1            2.0  \n2            2.0  \n3            2.0  \n4            2.0  \n...          ...  \n35907        2.0  \n35908        2.0  \n35909        2.0  \n35910        0.0  \n35911        0.0  \n\n[35912 rows x 4 columns]"
     },
     "execution_count": 137,
     "metadata": {},
     "output_type": "execute_result"
    }
   ],
   "source": [
    "hotel_df = pd.read_csv('hotel_rankings.csv')\n",
    "hotel_df"
   ]
  },
  {
   "cell_type": "code",
   "execution_count": 140,
   "metadata": {},
   "outputs": [
    {
     "data": {
      "text/html": "<div>\n<style scoped>\n    .dataframe tbody tr th:only-of-type {\n        vertical-align: middle;\n    }\n\n    .dataframe tbody tr th {\n        vertical-align: top;\n    }\n\n    .dataframe thead th {\n        text-align: right;\n    }\n</style>\n<table border=\"1\" class=\"dataframe\">\n  <thead>\n    <tr style=\"text-align: right;\">\n      <th></th>\n      <th>Unnamed: 0</th>\n      <th>reviews.text</th>\n      <th>reviews</th>\n      <th>sentiment</th>\n    </tr>\n  </thead>\n  <tbody>\n    <tr>\n      <th>0</th>\n      <td>0</td>\n      <td>Pleasant 10 min walk along the sea front to th...</td>\n      <td>4.0</td>\n      <td>1.0</td>\n    </tr>\n    <tr>\n      <th>1</th>\n      <td>1</td>\n      <td>Really lovely hotel. Stayed on the very top fl...</td>\n      <td>5.0</td>\n      <td>2.0</td>\n    </tr>\n    <tr>\n      <th>2</th>\n      <td>2</td>\n      <td>Ett mycket bra hotell. Det som drog ner betyge...</td>\n      <td>5.0</td>\n      <td>2.0</td>\n    </tr>\n    <tr>\n      <th>3</th>\n      <td>3</td>\n      <td>We stayed here for four nights in October. The...</td>\n      <td>5.0</td>\n      <td>2.0</td>\n    </tr>\n    <tr>\n      <th>4</th>\n      <td>4</td>\n      <td>We stayed here for four nights in October. The...</td>\n      <td>5.0</td>\n      <td>2.0</td>\n    </tr>\n    <tr>\n      <th>...</th>\n      <td>...</td>\n      <td>...</td>\n      <td>...</td>\n      <td>...</td>\n    </tr>\n    <tr>\n      <th>35907</th>\n      <td>35907</td>\n      <td>Best of the Best!!!! My family and I stayed in...</td>\n      <td>5.0</td>\n      <td>2.0</td>\n    </tr>\n    <tr>\n      <th>35908</th>\n      <td>35908</td>\n      <td>Amazing Vacation in Beautiful Cabin We stayed ...</td>\n      <td>5.0</td>\n      <td>2.0</td>\n    </tr>\n    <tr>\n      <th>35909</th>\n      <td>35909</td>\n      <td>My husband and I stayed at Tree Tops which is ...</td>\n      <td>5.0</td>\n      <td>2.0</td>\n    </tr>\n    <tr>\n      <th>35910</th>\n      <td>35910</td>\n      <td>to share your opinion of this businesswith YP ...</td>\n      <td>0.0</td>\n      <td>0.0</td>\n    </tr>\n    <tr>\n      <th>35911</th>\n      <td>35911</td>\n      <td>xxxxxxxxxxxxxxxxxxxxxxxxxxxxxxxxxxxxxxxxxx</td>\n      <td>0.0</td>\n      <td>0.0</td>\n    </tr>\n  </tbody>\n</table>\n<p>35028 rows × 4 columns</p>\n</div>",
      "text/plain": "       Unnamed: 0                                       reviews.text  reviews  \\\n0               0  Pleasant 10 min walk along the sea front to th...      4.0   \n1               1  Really lovely hotel. Stayed on the very top fl...      5.0   \n2               2  Ett mycket bra hotell. Det som drog ner betyge...      5.0   \n3               3  We stayed here for four nights in October. The...      5.0   \n4               4  We stayed here for four nights in October. The...      5.0   \n...           ...                                                ...      ...   \n35907       35907  Best of the Best!!!! My family and I stayed in...      5.0   \n35908       35908  Amazing Vacation in Beautiful Cabin We stayed ...      5.0   \n35909       35909  My husband and I stayed at Tree Tops which is ...      5.0   \n35910       35910  to share your opinion of this businesswith YP ...      0.0   \n35911       35911         xxxxxxxxxxxxxxxxxxxxxxxxxxxxxxxxxxxxxxxxxx      0.0   \n\n       sentiment  \n0            1.0  \n1            2.0  \n2            2.0  \n3            2.0  \n4            2.0  \n...          ...  \n35907        2.0  \n35908        2.0  \n35909        2.0  \n35910        0.0  \n35911        0.0  \n\n[35028 rows x 4 columns]"
     },
     "execution_count": 140,
     "metadata": {},
     "output_type": "execute_result"
    }
   ],
   "source": [
    "hotel_df = hotel_df.dropna()\n",
    "hotel_df"
   ]
  },
  {
   "cell_type": "code",
   "execution_count": 142,
   "metadata": {},
   "outputs": [
    {
     "data": {
      "text/plain": "0        4\n1        5\n2        5\n3        5\n4        5\n        ..\n35907    5\n35908    5\n35909    5\n35910    0\n35911    0\nName: reviews, Length: 35028, dtype: int64"
     },
     "execution_count": 142,
     "metadata": {},
     "output_type": "execute_result"
    }
   ],
   "source": [
    "hotel_df['reviews'].apply(fix_floats)"
   ]
  },
  {
   "cell_type": "code",
   "execution_count": 146,
   "metadata": {},
   "outputs": [
    {
     "data": {
      "text/plain": "0        1\n1        2\n2        2\n3        2\n4        2\n        ..\n35907    2\n35908    2\n35909    2\n35910    0\n35911    0\nName: sentiment, Length: 35028, dtype: int64"
     },
     "execution_count": 146,
     "metadata": {},
     "output_type": "execute_result"
    }
   ],
   "source": [
    "hotel_df['sentiment'].dropna()\n",
    "hotel_df['sentiment'].apply(fix_floats)"
   ]
  },
  {
   "cell_type": "code",
   "execution_count": 147,
   "metadata": {},
   "outputs": [
    {
     "data": {
      "text/html": "<div>\n<style scoped>\n    .dataframe tbody tr th:only-of-type {\n        vertical-align: middle;\n    }\n\n    .dataframe tbody tr th {\n        vertical-align: top;\n    }\n\n    .dataframe thead th {\n        text-align: right;\n    }\n</style>\n<table border=\"1\" class=\"dataframe\">\n  <thead>\n    <tr style=\"text-align: right;\">\n      <th></th>\n      <th>Unnamed: 0</th>\n      <th>reviews.text</th>\n      <th>reviews</th>\n      <th>sentiment</th>\n    </tr>\n  </thead>\n  <tbody>\n    <tr>\n      <th>0</th>\n      <td>0</td>\n      <td>Pleasant 10 min walk along the sea front to th...</td>\n      <td>4</td>\n      <td>1.0</td>\n    </tr>\n    <tr>\n      <th>1</th>\n      <td>1</td>\n      <td>Really lovely hotel. Stayed on the very top fl...</td>\n      <td>5</td>\n      <td>2.0</td>\n    </tr>\n    <tr>\n      <th>2</th>\n      <td>2</td>\n      <td>Ett mycket bra hotell. Det som drog ner betyge...</td>\n      <td>5</td>\n      <td>2.0</td>\n    </tr>\n    <tr>\n      <th>3</th>\n      <td>3</td>\n      <td>We stayed here for four nights in October. The...</td>\n      <td>5</td>\n      <td>2.0</td>\n    </tr>\n    <tr>\n      <th>4</th>\n      <td>4</td>\n      <td>We stayed here for four nights in October. The...</td>\n      <td>5</td>\n      <td>2.0</td>\n    </tr>\n    <tr>\n      <th>...</th>\n      <td>...</td>\n      <td>...</td>\n      <td>...</td>\n      <td>...</td>\n    </tr>\n    <tr>\n      <th>35907</th>\n      <td>35907</td>\n      <td>Best of the Best!!!! My family and I stayed in...</td>\n      <td>5</td>\n      <td>2.0</td>\n    </tr>\n    <tr>\n      <th>35908</th>\n      <td>35908</td>\n      <td>Amazing Vacation in Beautiful Cabin We stayed ...</td>\n      <td>5</td>\n      <td>2.0</td>\n    </tr>\n    <tr>\n      <th>35909</th>\n      <td>35909</td>\n      <td>My husband and I stayed at Tree Tops which is ...</td>\n      <td>5</td>\n      <td>2.0</td>\n    </tr>\n    <tr>\n      <th>35910</th>\n      <td>35910</td>\n      <td>to share your opinion of this businesswith YP ...</td>\n      <td>0</td>\n      <td>0.0</td>\n    </tr>\n    <tr>\n      <th>35911</th>\n      <td>35911</td>\n      <td>xxxxxxxxxxxxxxxxxxxxxxxxxxxxxxxxxxxxxxxxxx</td>\n      <td>0</td>\n      <td>0.0</td>\n    </tr>\n  </tbody>\n</table>\n<p>35028 rows × 4 columns</p>\n</div>",
      "text/plain": "       Unnamed: 0                                       reviews.text  reviews  \\\n0               0  Pleasant 10 min walk along the sea front to th...        4   \n1               1  Really lovely hotel. Stayed on the very top fl...        5   \n2               2  Ett mycket bra hotell. Det som drog ner betyge...        5   \n3               3  We stayed here for four nights in October. The...        5   \n4               4  We stayed here for four nights in October. The...        5   \n...           ...                                                ...      ...   \n35907       35907  Best of the Best!!!! My family and I stayed in...        5   \n35908       35908  Amazing Vacation in Beautiful Cabin We stayed ...        5   \n35909       35909  My husband and I stayed at Tree Tops which is ...        5   \n35910       35910  to share your opinion of this businesswith YP ...        0   \n35911       35911         xxxxxxxxxxxxxxxxxxxxxxxxxxxxxxxxxxxxxxxxxx        0   \n\n       sentiment  \n0            1.0  \n1            2.0  \n2            2.0  \n3            2.0  \n4            2.0  \n...          ...  \n35907        2.0  \n35908        2.0  \n35909        2.0  \n35910        0.0  \n35911        0.0  \n\n[35028 rows x 4 columns]"
     },
     "execution_count": 147,
     "metadata": {},
     "output_type": "execute_result"
    }
   ],
   "source": [
    "hotel_df"
   ]
  },
  {
   "cell_type": "code",
   "execution_count": 148,
   "metadata": {},
   "outputs": [],
   "source": [
    "test_text = hotel_df['reviews.text']\n",
    "test_review = hotel_df['reviews']"
   ]
  },
  {
   "cell_type": "code",
   "execution_count": 149,
   "metadata": {},
   "outputs": [],
   "source": [
    "tokenizer = Tokenizer()\n",
    "tokenizer.fit_on_texts(test_text)"
   ]
  },
  {
   "cell_type": "code",
   "execution_count": 150,
   "metadata": {},
   "outputs": [],
   "source": [
    "test_text = tokenizer.texts_to_sequences(test_text)"
   ]
  },
  {
   "cell_type": "code",
   "execution_count": 151,
   "metadata": {},
   "outputs": [
    {
     "data": {
      "text/plain": "array([[0., 1., 0., ..., 0., 0., 0.],\n       [0., 1., 1., ..., 0., 0., 0.],\n       [0., 0., 0., ..., 0., 0., 0.],\n       ...,\n       [0., 1., 1., ..., 1., 1., 1.],\n       [0., 1., 0., ..., 0., 0., 0.],\n       [0., 0., 0., ..., 0., 0., 0.]])"
     },
     "execution_count": 151,
     "metadata": {},
     "output_type": "execute_result"
    }
   ],
   "source": [
    "test_text = tokenizer.sequences_to_matrix(test_text)\n",
    "test_text"
   ]
  },
  {
   "cell_type": "code",
   "execution_count": null,
   "metadata": {},
   "outputs": [],
   "source": []
  }
 ]
}